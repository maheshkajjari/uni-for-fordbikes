{
  "nbformat": 4,
  "nbformat_minor": 0,
  "metadata": {
    "colab": {
      "name": "fordbike.ipynb",
      "provenance": [],
      "collapsed_sections": [],
      "authorship_tag": "ABX9TyPB6WrUOzVpUSnFvbCZd81A",
      "include_colab_link": true
    },
    "kernelspec": {
      "name": "python3",
      "display_name": "Python 3"
    }
  },
  "cells": [
    {
      "cell_type": "markdown",
      "metadata": {
        "id": "view-in-github",
        "colab_type": "text"
      },
      "source": [
        "<a href=\"https://colab.research.google.com/github/maheshkajjari/uni-for-fordbikes/blob/master/fordbike.ipynb\" target=\"_parent\"><img src=\"https://colab.research.google.com/assets/colab-badge.svg\" alt=\"Open In Colab\"/></a>"
      ]
    },
    {
      "cell_type": "code",
      "metadata": {
        "id": "QlzcBVo_FU9_",
        "colab_type": "code",
        "colab": {}
      },
      "source": [
        "#importing all packages\n",
        "import numpy as np\n",
        "import pandas as pd\n",
        "import matplotlib.pyplot as plt\n",
        "import seaborn as sns\n",
        "import plotly.express as px\n",
        "#from mpl_toolkits.basemap import Basemap\n",
        "%matplotlib inline"
      ],
      "execution_count": 0,
      "outputs": []
    },
    {
      "cell_type": "markdown",
      "metadata": {
        "id": "_A0hstScPudC",
        "colab_type": "text"
      },
      "source": [
        "#Ford Gobike / Bay Wheels\n",
        "\n",
        "###  Ford Gobike/Bay Wheels is a regional public bicycle sharing system in the San Francisco Bay Area, California operated by Motivate in a partnership with the Metropolitan Transportation Commission and the Bay Area Air Quality Management District.\n",
        "Problem Statement:\n",
        "This analysis uses the data pertaining to trips on Ford GoBike. The major aim is to understand the following.\n",
        "1. When are most trips taken in terms of Weeks, Months .\n",
        "2. For sales prospective ,Trips taken based on Gender and Ages .\n"
      ]
    },
    {
      "cell_type": "code",
      "metadata": {
        "id": "cDlM97nYP29n",
        "colab_type": "code",
        "colab": {}
      },
      "source": [
        "df = pd.read_csv('http://s3.amazonaws.com/fordgobike-data/2017-fordgobike-tripdata.csv')"
      ],
      "execution_count": 0,
      "outputs": []
    },
    {
      "cell_type": "markdown",
      "metadata": {
        "id": "Z5vJXjotNL3s",
        "colab_type": "text"
      },
      "source": [
        "Before going further we have to look at the size of the data."
      ]
    },
    {
      "cell_type": "code",
      "metadata": {
        "id": "Odr7rzsAN1yP",
        "colab_type": "code",
        "outputId": "d31310ed-712c-4264-bfa8-23e0cf903ef5",
        "colab": {
          "base_uri": "https://localhost:8080/",
          "height": 35
        }
      },
      "source": [
        "df.shape"
      ],
      "execution_count": 6,
      "outputs": [
        {
          "output_type": "execute_result",
          "data": {
            "text/plain": [
              "(519700, 15)"
            ]
          },
          "metadata": {
            "tags": []
          },
          "execution_count": 6
        }
      ]
    },
    {
      "cell_type": "code",
      "metadata": {
        "id": "MzbDhtB4QFSZ",
        "colab_type": "code",
        "colab": {}
      },
      "source": [
        "df['member_age'] = 2018 - df['member_birth_year']"
      ],
      "execution_count": 0,
      "outputs": []
    },
    {
      "cell_type": "markdown",
      "metadata": {
        "id": "pmleERNwPQfO",
        "colab_type": "text"
      },
      "source": [
        "#### The structure of the dataset can be seen below(glimpse) which has 192162 records for 16 columns. "
      ]
    },
    {
      "cell_type": "code",
      "metadata": {
        "id": "kdxTP9ohYV3i",
        "colab_type": "code",
        "outputId": "fb60ccb5-99af-47e7-f7d8-cd9b1f3174e1",
        "colab": {
          "base_uri": "https://localhost:8080/",
          "height": 365
        }
      },
      "source": [
        "df.head()"
      ],
      "execution_count": 8,
      "outputs": [
        {
          "output_type": "execute_result",
          "data": {
            "text/html": [
              "<div>\n",
              "<style scoped>\n",
              "    .dataframe tbody tr th:only-of-type {\n",
              "        vertical-align: middle;\n",
              "    }\n",
              "\n",
              "    .dataframe tbody tr th {\n",
              "        vertical-align: top;\n",
              "    }\n",
              "\n",
              "    .dataframe thead th {\n",
              "        text-align: right;\n",
              "    }\n",
              "</style>\n",
              "<table border=\"1\" class=\"dataframe\">\n",
              "  <thead>\n",
              "    <tr style=\"text-align: right;\">\n",
              "      <th></th>\n",
              "      <th>duration_sec</th>\n",
              "      <th>start_time</th>\n",
              "      <th>end_time</th>\n",
              "      <th>start_station_id</th>\n",
              "      <th>start_station_name</th>\n",
              "      <th>start_station_latitude</th>\n",
              "      <th>start_station_longitude</th>\n",
              "      <th>end_station_id</th>\n",
              "      <th>end_station_name</th>\n",
              "      <th>end_station_latitude</th>\n",
              "      <th>end_station_longitude</th>\n",
              "      <th>bike_id</th>\n",
              "      <th>user_type</th>\n",
              "      <th>member_birth_year</th>\n",
              "      <th>member_gender</th>\n",
              "      <th>member_age</th>\n",
              "    </tr>\n",
              "  </thead>\n",
              "  <tbody>\n",
              "    <tr>\n",
              "      <th>0</th>\n",
              "      <td>80110</td>\n",
              "      <td>2017-12-31 16:57:39.6540</td>\n",
              "      <td>2018-01-01 15:12:50.2450</td>\n",
              "      <td>74</td>\n",
              "      <td>Laguna St at Hayes St</td>\n",
              "      <td>37.776435</td>\n",
              "      <td>-122.426244</td>\n",
              "      <td>43</td>\n",
              "      <td>San Francisco Public Library (Grove St at Hyde...</td>\n",
              "      <td>37.778768</td>\n",
              "      <td>-122.415929</td>\n",
              "      <td>96</td>\n",
              "      <td>Customer</td>\n",
              "      <td>1987.0</td>\n",
              "      <td>Male</td>\n",
              "      <td>31.0</td>\n",
              "    </tr>\n",
              "    <tr>\n",
              "      <th>1</th>\n",
              "      <td>78800</td>\n",
              "      <td>2017-12-31 15:56:34.8420</td>\n",
              "      <td>2018-01-01 13:49:55.6170</td>\n",
              "      <td>284</td>\n",
              "      <td>Yerba Buena Center for the Arts (Howard St at ...</td>\n",
              "      <td>37.784872</td>\n",
              "      <td>-122.400876</td>\n",
              "      <td>96</td>\n",
              "      <td>Dolores St at 15th St</td>\n",
              "      <td>37.766210</td>\n",
              "      <td>-122.426614</td>\n",
              "      <td>88</td>\n",
              "      <td>Customer</td>\n",
              "      <td>1965.0</td>\n",
              "      <td>Female</td>\n",
              "      <td>53.0</td>\n",
              "    </tr>\n",
              "    <tr>\n",
              "      <th>2</th>\n",
              "      <td>45768</td>\n",
              "      <td>2017-12-31 22:45:48.4110</td>\n",
              "      <td>2018-01-01 11:28:36.8830</td>\n",
              "      <td>245</td>\n",
              "      <td>Downtown Berkeley BART</td>\n",
              "      <td>37.870348</td>\n",
              "      <td>-122.267764</td>\n",
              "      <td>245</td>\n",
              "      <td>Downtown Berkeley BART</td>\n",
              "      <td>37.870348</td>\n",
              "      <td>-122.267764</td>\n",
              "      <td>1094</td>\n",
              "      <td>Customer</td>\n",
              "      <td>NaN</td>\n",
              "      <td>NaN</td>\n",
              "      <td>NaN</td>\n",
              "    </tr>\n",
              "    <tr>\n",
              "      <th>3</th>\n",
              "      <td>62172</td>\n",
              "      <td>2017-12-31 17:31:10.6360</td>\n",
              "      <td>2018-01-01 10:47:23.5310</td>\n",
              "      <td>60</td>\n",
              "      <td>8th St at Ringold St</td>\n",
              "      <td>37.774520</td>\n",
              "      <td>-122.409449</td>\n",
              "      <td>5</td>\n",
              "      <td>Powell St BART Station (Market St at 5th St)</td>\n",
              "      <td>37.783899</td>\n",
              "      <td>-122.408445</td>\n",
              "      <td>2831</td>\n",
              "      <td>Customer</td>\n",
              "      <td>NaN</td>\n",
              "      <td>NaN</td>\n",
              "      <td>NaN</td>\n",
              "    </tr>\n",
              "    <tr>\n",
              "      <th>4</th>\n",
              "      <td>43603</td>\n",
              "      <td>2017-12-31 14:23:14.0010</td>\n",
              "      <td>2018-01-01 02:29:57.5710</td>\n",
              "      <td>239</td>\n",
              "      <td>Bancroft Way at Telegraph Ave</td>\n",
              "      <td>37.868813</td>\n",
              "      <td>-122.258764</td>\n",
              "      <td>247</td>\n",
              "      <td>Fulton St at Bancroft Way</td>\n",
              "      <td>37.867789</td>\n",
              "      <td>-122.265896</td>\n",
              "      <td>3167</td>\n",
              "      <td>Subscriber</td>\n",
              "      <td>1997.0</td>\n",
              "      <td>Female</td>\n",
              "      <td>21.0</td>\n",
              "    </tr>\n",
              "  </tbody>\n",
              "</table>\n",
              "</div>"
            ],
            "text/plain": [
              "   duration_sec                start_time  ... member_gender  member_age\n",
              "0         80110  2017-12-31 16:57:39.6540  ...          Male        31.0\n",
              "1         78800  2017-12-31 15:56:34.8420  ...        Female        53.0\n",
              "2         45768  2017-12-31 22:45:48.4110  ...           NaN         NaN\n",
              "3         62172  2017-12-31 17:31:10.6360  ...           NaN         NaN\n",
              "4         43603  2017-12-31 14:23:14.0010  ...        Female        21.0\n",
              "\n",
              "[5 rows x 16 columns]"
            ]
          },
          "metadata": {
            "tags": []
          },
          "execution_count": 8
        }
      ]
    },
    {
      "cell_type": "markdown",
      "metadata": {
        "id": "kng43lSkRSKF",
        "colab_type": "text"
      },
      "source": [
        "## What is/are the main feature(s) of interest in your dataset?\n",
        "#### The main interest would be to find when the most number of trips been taken ,when are most trips taken in terms of Weeks, Months . And for sales prospective ,Trips taken based on Gender and Ages which will help to target more customers to use the  service."
      ]
    },
    {
      "cell_type": "markdown",
      "metadata": {
        "id": "g33Ht4LnTPzd",
        "colab_type": "text"
      },
      "source": [
        "#Univariate \n",
        "### Before proceeding further into the Univariate analysis , we have the statistical summary of the data which can b seen below."
      ]
    },
    {
      "cell_type": "code",
      "metadata": {
        "id": "cSYtwE4FUB5y",
        "colab_type": "code",
        "outputId": "d6b5402d-6cb1-4f1d-a4d3-8a06d339a785",
        "colab": {
          "base_uri": "https://localhost:8080/",
          "height": 449
        }
      },
      "source": [
        "df.describe(include = 'all')"
      ],
      "execution_count": 9,
      "outputs": [
        {
          "output_type": "execute_result",
          "data": {
            "text/html": [
              "<div>\n",
              "<style scoped>\n",
              "    .dataframe tbody tr th:only-of-type {\n",
              "        vertical-align: middle;\n",
              "    }\n",
              "\n",
              "    .dataframe tbody tr th {\n",
              "        vertical-align: top;\n",
              "    }\n",
              "\n",
              "    .dataframe thead th {\n",
              "        text-align: right;\n",
              "    }\n",
              "</style>\n",
              "<table border=\"1\" class=\"dataframe\">\n",
              "  <thead>\n",
              "    <tr style=\"text-align: right;\">\n",
              "      <th></th>\n",
              "      <th>duration_sec</th>\n",
              "      <th>start_time</th>\n",
              "      <th>end_time</th>\n",
              "      <th>start_station_id</th>\n",
              "      <th>start_station_name</th>\n",
              "      <th>start_station_latitude</th>\n",
              "      <th>start_station_longitude</th>\n",
              "      <th>end_station_id</th>\n",
              "      <th>end_station_name</th>\n",
              "      <th>end_station_latitude</th>\n",
              "      <th>end_station_longitude</th>\n",
              "      <th>bike_id</th>\n",
              "      <th>user_type</th>\n",
              "      <th>member_birth_year</th>\n",
              "      <th>member_gender</th>\n",
              "      <th>member_age</th>\n",
              "    </tr>\n",
              "  </thead>\n",
              "  <tbody>\n",
              "    <tr>\n",
              "      <th>count</th>\n",
              "      <td>519700.000000</td>\n",
              "      <td>519700</td>\n",
              "      <td>519700</td>\n",
              "      <td>519700.000000</td>\n",
              "      <td>519700</td>\n",
              "      <td>519700.000000</td>\n",
              "      <td>519700.000000</td>\n",
              "      <td>519700.000000</td>\n",
              "      <td>519700</td>\n",
              "      <td>519700.000000</td>\n",
              "      <td>519700.000000</td>\n",
              "      <td>519700.000000</td>\n",
              "      <td>519700</td>\n",
              "      <td>453159.000000</td>\n",
              "      <td>453238</td>\n",
              "      <td>453159.000000</td>\n",
              "    </tr>\n",
              "    <tr>\n",
              "      <th>unique</th>\n",
              "      <td>NaN</td>\n",
              "      <td>519688</td>\n",
              "      <td>519681</td>\n",
              "      <td>NaN</td>\n",
              "      <td>272</td>\n",
              "      <td>NaN</td>\n",
              "      <td>NaN</td>\n",
              "      <td>NaN</td>\n",
              "      <td>272</td>\n",
              "      <td>NaN</td>\n",
              "      <td>NaN</td>\n",
              "      <td>NaN</td>\n",
              "      <td>2</td>\n",
              "      <td>NaN</td>\n",
              "      <td>3</td>\n",
              "      <td>NaN</td>\n",
              "    </tr>\n",
              "    <tr>\n",
              "      <th>top</th>\n",
              "      <td>NaN</td>\n",
              "      <td>2017-11-20 17:28:29.3730</td>\n",
              "      <td>2017-09-19 08:44:08.6320</td>\n",
              "      <td>NaN</td>\n",
              "      <td>San Francisco Ferry Building (Harry Bridges Pl...</td>\n",
              "      <td>NaN</td>\n",
              "      <td>NaN</td>\n",
              "      <td>NaN</td>\n",
              "      <td>San Francisco Caltrain (Townsend St at 4th St)</td>\n",
              "      <td>NaN</td>\n",
              "      <td>NaN</td>\n",
              "      <td>NaN</td>\n",
              "      <td>Subscriber</td>\n",
              "      <td>NaN</td>\n",
              "      <td>Male</td>\n",
              "      <td>NaN</td>\n",
              "    </tr>\n",
              "    <tr>\n",
              "      <th>freq</th>\n",
              "      <td>NaN</td>\n",
              "      <td>2</td>\n",
              "      <td>2</td>\n",
              "      <td>NaN</td>\n",
              "      <td>15187</td>\n",
              "      <td>NaN</td>\n",
              "      <td>NaN</td>\n",
              "      <td>NaN</td>\n",
              "      <td>17378</td>\n",
              "      <td>NaN</td>\n",
              "      <td>NaN</td>\n",
              "      <td>NaN</td>\n",
              "      <td>409230</td>\n",
              "      <td>NaN</td>\n",
              "      <td>348318</td>\n",
              "      <td>NaN</td>\n",
              "    </tr>\n",
              "    <tr>\n",
              "      <th>mean</th>\n",
              "      <td>1099.009521</td>\n",
              "      <td>NaN</td>\n",
              "      <td>NaN</td>\n",
              "      <td>95.034245</td>\n",
              "      <td>NaN</td>\n",
              "      <td>37.771653</td>\n",
              "      <td>-122.363927</td>\n",
              "      <td>92.184041</td>\n",
              "      <td>NaN</td>\n",
              "      <td>37.771844</td>\n",
              "      <td>-122.363236</td>\n",
              "      <td>1672.533079</td>\n",
              "      <td>NaN</td>\n",
              "      <td>1980.404787</td>\n",
              "      <td>NaN</td>\n",
              "      <td>37.595213</td>\n",
              "    </tr>\n",
              "    <tr>\n",
              "      <th>std</th>\n",
              "      <td>3444.146451</td>\n",
              "      <td>NaN</td>\n",
              "      <td>NaN</td>\n",
              "      <td>86.083078</td>\n",
              "      <td>NaN</td>\n",
              "      <td>0.086305</td>\n",
              "      <td>0.105573</td>\n",
              "      <td>84.969491</td>\n",
              "      <td>NaN</td>\n",
              "      <td>0.086224</td>\n",
              "      <td>0.105122</td>\n",
              "      <td>971.356959</td>\n",
              "      <td>NaN</td>\n",
              "      <td>10.513488</td>\n",
              "      <td>NaN</td>\n",
              "      <td>10.513488</td>\n",
              "    </tr>\n",
              "    <tr>\n",
              "      <th>min</th>\n",
              "      <td>61.000000</td>\n",
              "      <td>NaN</td>\n",
              "      <td>NaN</td>\n",
              "      <td>3.000000</td>\n",
              "      <td>NaN</td>\n",
              "      <td>37.317298</td>\n",
              "      <td>-122.444293</td>\n",
              "      <td>3.000000</td>\n",
              "      <td>NaN</td>\n",
              "      <td>37.317298</td>\n",
              "      <td>-122.444293</td>\n",
              "      <td>10.000000</td>\n",
              "      <td>NaN</td>\n",
              "      <td>1886.000000</td>\n",
              "      <td>NaN</td>\n",
              "      <td>19.000000</td>\n",
              "    </tr>\n",
              "    <tr>\n",
              "      <th>25%</th>\n",
              "      <td>382.000000</td>\n",
              "      <td>NaN</td>\n",
              "      <td>NaN</td>\n",
              "      <td>24.000000</td>\n",
              "      <td>NaN</td>\n",
              "      <td>37.773492</td>\n",
              "      <td>-122.411726</td>\n",
              "      <td>23.000000</td>\n",
              "      <td>NaN</td>\n",
              "      <td>37.774520</td>\n",
              "      <td>-122.410345</td>\n",
              "      <td>787.000000</td>\n",
              "      <td>NaN</td>\n",
              "      <td>1974.000000</td>\n",
              "      <td>NaN</td>\n",
              "      <td>30.000000</td>\n",
              "    </tr>\n",
              "    <tr>\n",
              "      <th>50%</th>\n",
              "      <td>596.000000</td>\n",
              "      <td>NaN</td>\n",
              "      <td>NaN</td>\n",
              "      <td>67.000000</td>\n",
              "      <td>NaN</td>\n",
              "      <td>37.783521</td>\n",
              "      <td>-122.398870</td>\n",
              "      <td>66.000000</td>\n",
              "      <td>NaN</td>\n",
              "      <td>37.783830</td>\n",
              "      <td>-122.398525</td>\n",
              "      <td>1728.500000</td>\n",
              "      <td>NaN</td>\n",
              "      <td>1983.000000</td>\n",
              "      <td>NaN</td>\n",
              "      <td>35.000000</td>\n",
              "    </tr>\n",
              "    <tr>\n",
              "      <th>75%</th>\n",
              "      <td>938.000000</td>\n",
              "      <td>NaN</td>\n",
              "      <td>NaN</td>\n",
              "      <td>139.000000</td>\n",
              "      <td>NaN</td>\n",
              "      <td>37.795392</td>\n",
              "      <td>-122.391034</td>\n",
              "      <td>134.000000</td>\n",
              "      <td>NaN</td>\n",
              "      <td>37.795392</td>\n",
              "      <td>-122.391034</td>\n",
              "      <td>2520.000000</td>\n",
              "      <td>NaN</td>\n",
              "      <td>1988.000000</td>\n",
              "      <td>NaN</td>\n",
              "      <td>44.000000</td>\n",
              "    </tr>\n",
              "    <tr>\n",
              "      <th>max</th>\n",
              "      <td>86369.000000</td>\n",
              "      <td>NaN</td>\n",
              "      <td>NaN</td>\n",
              "      <td>340.000000</td>\n",
              "      <td>NaN</td>\n",
              "      <td>37.880222</td>\n",
              "      <td>-121.874119</td>\n",
              "      <td>340.000000</td>\n",
              "      <td>NaN</td>\n",
              "      <td>37.880222</td>\n",
              "      <td>-121.874119</td>\n",
              "      <td>3733.000000</td>\n",
              "      <td>NaN</td>\n",
              "      <td>1999.000000</td>\n",
              "      <td>NaN</td>\n",
              "      <td>132.000000</td>\n",
              "    </tr>\n",
              "  </tbody>\n",
              "</table>\n",
              "</div>"
            ],
            "text/plain": [
              "         duration_sec                start_time  ... member_gender     member_age\n",
              "count   519700.000000                    519700  ...        453238  453159.000000\n",
              "unique            NaN                    519688  ...             3            NaN\n",
              "top               NaN  2017-11-20 17:28:29.3730  ...          Male            NaN\n",
              "freq              NaN                         2  ...        348318            NaN\n",
              "mean      1099.009521                       NaN  ...           NaN      37.595213\n",
              "std       3444.146451                       NaN  ...           NaN      10.513488\n",
              "min         61.000000                       NaN  ...           NaN      19.000000\n",
              "25%        382.000000                       NaN  ...           NaN      30.000000\n",
              "50%        596.000000                       NaN  ...           NaN      35.000000\n",
              "75%        938.000000                       NaN  ...           NaN      44.000000\n",
              "max      86369.000000                       NaN  ...           NaN     132.000000\n",
              "\n",
              "[11 rows x 16 columns]"
            ]
          },
          "metadata": {
            "tags": []
          },
          "execution_count": 9
        }
      ]
    },
    {
      "cell_type": "markdown",
      "metadata": {
        "id": "2DLO66jqVWbp",
        "colab_type": "text"
      },
      "source": [
        "### from the above we can see few things\n",
        "1. Out of 192162 records , We can see that 161433 user types are subscribers. Which means more of riders are subscribers. \n",
        "2.We can also see that out of the 181247 gender of customers , 131064 customers are Males. But we may look deep into it and analyse whether the average duration for the individual customer type differs. "
      ]
    },
    {
      "cell_type": "code",
      "metadata": {
        "id": "YKTbnyYoQjzf",
        "colab_type": "code",
        "colab": {}
      },
      "source": [
        "for i in ['start', 'end']:\n",
        "  df[i + '_time'] = pd.to_datetime(df[i + '_time'])\n",
        "  df[i+ '_day_name'] = df[i+ '_time'].apply(lambda x:x.day_name())\n",
        "  df[i+ '_month_name'] = df[i+ '_time'].apply(lambda x:x.month_name())\n",
        "df[i+ '_hour'] = df[i+ '_time'].apply(lambda x:x.hour)"
      ],
      "execution_count": 0,
      "outputs": []
    },
    {
      "cell_type": "markdown",
      "metadata": {
        "id": "zhZ7oXgxZjJp",
        "colab_type": "text"
      },
      "source": [
        "#### By doing the above coding we can see new sorted columns start day name ,start month name , end day name and end month name. "
      ]
    },
    {
      "cell_type": "code",
      "metadata": {
        "id": "b8v1uimGQphG",
        "colab_type": "code",
        "outputId": "b7c87c3e-0fbb-4c85-c315-5e41f755b2a3",
        "colab": {
          "base_uri": "https://localhost:8080/",
          "height": 365
        }
      },
      "source": [
        " df.head()"
      ],
      "execution_count": 11,
      "outputs": [
        {
          "output_type": "execute_result",
          "data": {
            "text/html": [
              "<div>\n",
              "<style scoped>\n",
              "    .dataframe tbody tr th:only-of-type {\n",
              "        vertical-align: middle;\n",
              "    }\n",
              "\n",
              "    .dataframe tbody tr th {\n",
              "        vertical-align: top;\n",
              "    }\n",
              "\n",
              "    .dataframe thead th {\n",
              "        text-align: right;\n",
              "    }\n",
              "</style>\n",
              "<table border=\"1\" class=\"dataframe\">\n",
              "  <thead>\n",
              "    <tr style=\"text-align: right;\">\n",
              "      <th></th>\n",
              "      <th>duration_sec</th>\n",
              "      <th>start_time</th>\n",
              "      <th>end_time</th>\n",
              "      <th>start_station_id</th>\n",
              "      <th>start_station_name</th>\n",
              "      <th>start_station_latitude</th>\n",
              "      <th>start_station_longitude</th>\n",
              "      <th>end_station_id</th>\n",
              "      <th>end_station_name</th>\n",
              "      <th>end_station_latitude</th>\n",
              "      <th>end_station_longitude</th>\n",
              "      <th>bike_id</th>\n",
              "      <th>user_type</th>\n",
              "      <th>member_birth_year</th>\n",
              "      <th>member_gender</th>\n",
              "      <th>member_age</th>\n",
              "      <th>start_day_name</th>\n",
              "      <th>start_month_name</th>\n",
              "      <th>end_day_name</th>\n",
              "      <th>end_month_name</th>\n",
              "      <th>end_hour</th>\n",
              "    </tr>\n",
              "  </thead>\n",
              "  <tbody>\n",
              "    <tr>\n",
              "      <th>0</th>\n",
              "      <td>80110</td>\n",
              "      <td>2017-12-31 16:57:39.654</td>\n",
              "      <td>2018-01-01 15:12:50.245</td>\n",
              "      <td>74</td>\n",
              "      <td>Laguna St at Hayes St</td>\n",
              "      <td>37.776435</td>\n",
              "      <td>-122.426244</td>\n",
              "      <td>43</td>\n",
              "      <td>San Francisco Public Library (Grove St at Hyde...</td>\n",
              "      <td>37.778768</td>\n",
              "      <td>-122.415929</td>\n",
              "      <td>96</td>\n",
              "      <td>Customer</td>\n",
              "      <td>1987.0</td>\n",
              "      <td>Male</td>\n",
              "      <td>31.0</td>\n",
              "      <td>Sunday</td>\n",
              "      <td>December</td>\n",
              "      <td>Monday</td>\n",
              "      <td>January</td>\n",
              "      <td>15</td>\n",
              "    </tr>\n",
              "    <tr>\n",
              "      <th>1</th>\n",
              "      <td>78800</td>\n",
              "      <td>2017-12-31 15:56:34.842</td>\n",
              "      <td>2018-01-01 13:49:55.617</td>\n",
              "      <td>284</td>\n",
              "      <td>Yerba Buena Center for the Arts (Howard St at ...</td>\n",
              "      <td>37.784872</td>\n",
              "      <td>-122.400876</td>\n",
              "      <td>96</td>\n",
              "      <td>Dolores St at 15th St</td>\n",
              "      <td>37.766210</td>\n",
              "      <td>-122.426614</td>\n",
              "      <td>88</td>\n",
              "      <td>Customer</td>\n",
              "      <td>1965.0</td>\n",
              "      <td>Female</td>\n",
              "      <td>53.0</td>\n",
              "      <td>Sunday</td>\n",
              "      <td>December</td>\n",
              "      <td>Monday</td>\n",
              "      <td>January</td>\n",
              "      <td>13</td>\n",
              "    </tr>\n",
              "    <tr>\n",
              "      <th>2</th>\n",
              "      <td>45768</td>\n",
              "      <td>2017-12-31 22:45:48.411</td>\n",
              "      <td>2018-01-01 11:28:36.883</td>\n",
              "      <td>245</td>\n",
              "      <td>Downtown Berkeley BART</td>\n",
              "      <td>37.870348</td>\n",
              "      <td>-122.267764</td>\n",
              "      <td>245</td>\n",
              "      <td>Downtown Berkeley BART</td>\n",
              "      <td>37.870348</td>\n",
              "      <td>-122.267764</td>\n",
              "      <td>1094</td>\n",
              "      <td>Customer</td>\n",
              "      <td>NaN</td>\n",
              "      <td>NaN</td>\n",
              "      <td>NaN</td>\n",
              "      <td>Sunday</td>\n",
              "      <td>December</td>\n",
              "      <td>Monday</td>\n",
              "      <td>January</td>\n",
              "      <td>11</td>\n",
              "    </tr>\n",
              "    <tr>\n",
              "      <th>3</th>\n",
              "      <td>62172</td>\n",
              "      <td>2017-12-31 17:31:10.636</td>\n",
              "      <td>2018-01-01 10:47:23.531</td>\n",
              "      <td>60</td>\n",
              "      <td>8th St at Ringold St</td>\n",
              "      <td>37.774520</td>\n",
              "      <td>-122.409449</td>\n",
              "      <td>5</td>\n",
              "      <td>Powell St BART Station (Market St at 5th St)</td>\n",
              "      <td>37.783899</td>\n",
              "      <td>-122.408445</td>\n",
              "      <td>2831</td>\n",
              "      <td>Customer</td>\n",
              "      <td>NaN</td>\n",
              "      <td>NaN</td>\n",
              "      <td>NaN</td>\n",
              "      <td>Sunday</td>\n",
              "      <td>December</td>\n",
              "      <td>Monday</td>\n",
              "      <td>January</td>\n",
              "      <td>10</td>\n",
              "    </tr>\n",
              "    <tr>\n",
              "      <th>4</th>\n",
              "      <td>43603</td>\n",
              "      <td>2017-12-31 14:23:14.001</td>\n",
              "      <td>2018-01-01 02:29:57.571</td>\n",
              "      <td>239</td>\n",
              "      <td>Bancroft Way at Telegraph Ave</td>\n",
              "      <td>37.868813</td>\n",
              "      <td>-122.258764</td>\n",
              "      <td>247</td>\n",
              "      <td>Fulton St at Bancroft Way</td>\n",
              "      <td>37.867789</td>\n",
              "      <td>-122.265896</td>\n",
              "      <td>3167</td>\n",
              "      <td>Subscriber</td>\n",
              "      <td>1997.0</td>\n",
              "      <td>Female</td>\n",
              "      <td>21.0</td>\n",
              "      <td>Sunday</td>\n",
              "      <td>December</td>\n",
              "      <td>Monday</td>\n",
              "      <td>January</td>\n",
              "      <td>2</td>\n",
              "    </tr>\n",
              "  </tbody>\n",
              "</table>\n",
              "</div>"
            ],
            "text/plain": [
              "   duration_sec              start_time  ... end_month_name  end_hour\n",
              "0         80110 2017-12-31 16:57:39.654  ...        January        15\n",
              "1         78800 2017-12-31 15:56:34.842  ...        January        13\n",
              "2         45768 2017-12-31 22:45:48.411  ...        January        11\n",
              "3         62172 2017-12-31 17:31:10.636  ...        January        10\n",
              "4         43603 2017-12-31 14:23:14.001  ...        January         2\n",
              "\n",
              "[5 rows x 21 columns]"
            ]
          },
          "metadata": {
            "tags": []
          },
          "execution_count": 11
        }
      ]
    },
    {
      "cell_type": "code",
      "metadata": {
        "id": "w6t_6QPdVCFJ",
        "colab_type": "code",
        "outputId": "68a1874f-644a-4310-8ba9-6041aedce8ff",
        "colab": {
          "base_uri": "https://localhost:8080/",
          "height": 812
        }
      },
      "source": [
        "df.describe(include = 'all').T"
      ],
      "execution_count": 12,
      "outputs": [
        {
          "output_type": "execute_result",
          "data": {
            "text/html": [
              "<div>\n",
              "<style scoped>\n",
              "    .dataframe tbody tr th:only-of-type {\n",
              "        vertical-align: middle;\n",
              "    }\n",
              "\n",
              "    .dataframe tbody tr th {\n",
              "        vertical-align: top;\n",
              "    }\n",
              "\n",
              "    .dataframe thead th {\n",
              "        text-align: right;\n",
              "    }\n",
              "</style>\n",
              "<table border=\"1\" class=\"dataframe\">\n",
              "  <thead>\n",
              "    <tr style=\"text-align: right;\">\n",
              "      <th></th>\n",
              "      <th>count</th>\n",
              "      <th>unique</th>\n",
              "      <th>top</th>\n",
              "      <th>freq</th>\n",
              "      <th>first</th>\n",
              "      <th>last</th>\n",
              "      <th>mean</th>\n",
              "      <th>std</th>\n",
              "      <th>min</th>\n",
              "      <th>25%</th>\n",
              "      <th>50%</th>\n",
              "      <th>75%</th>\n",
              "      <th>max</th>\n",
              "    </tr>\n",
              "  </thead>\n",
              "  <tbody>\n",
              "    <tr>\n",
              "      <th>duration_sec</th>\n",
              "      <td>519700</td>\n",
              "      <td>NaN</td>\n",
              "      <td>NaN</td>\n",
              "      <td>NaN</td>\n",
              "      <td>NaT</td>\n",
              "      <td>NaT</td>\n",
              "      <td>1099.01</td>\n",
              "      <td>3444.15</td>\n",
              "      <td>61</td>\n",
              "      <td>382</td>\n",
              "      <td>596</td>\n",
              "      <td>938</td>\n",
              "      <td>86369</td>\n",
              "    </tr>\n",
              "    <tr>\n",
              "      <th>start_time</th>\n",
              "      <td>519700</td>\n",
              "      <td>519688</td>\n",
              "      <td>2017-09-27 09:08:34.218000</td>\n",
              "      <td>2</td>\n",
              "      <td>2017-06-28 09:47:36.347</td>\n",
              "      <td>2017-12-31 23:59:01.261</td>\n",
              "      <td>NaN</td>\n",
              "      <td>NaN</td>\n",
              "      <td>NaN</td>\n",
              "      <td>NaN</td>\n",
              "      <td>NaN</td>\n",
              "      <td>NaN</td>\n",
              "      <td>NaN</td>\n",
              "    </tr>\n",
              "    <tr>\n",
              "      <th>end_time</th>\n",
              "      <td>519700</td>\n",
              "      <td>519681</td>\n",
              "      <td>2017-08-10 12:35:25.814000</td>\n",
              "      <td>2</td>\n",
              "      <td>2017-06-28 09:52:55.338</td>\n",
              "      <td>2018-01-01 15:12:50.245</td>\n",
              "      <td>NaN</td>\n",
              "      <td>NaN</td>\n",
              "      <td>NaN</td>\n",
              "      <td>NaN</td>\n",
              "      <td>NaN</td>\n",
              "      <td>NaN</td>\n",
              "      <td>NaN</td>\n",
              "    </tr>\n",
              "    <tr>\n",
              "      <th>start_station_id</th>\n",
              "      <td>519700</td>\n",
              "      <td>NaN</td>\n",
              "      <td>NaN</td>\n",
              "      <td>NaN</td>\n",
              "      <td>NaT</td>\n",
              "      <td>NaT</td>\n",
              "      <td>95.0342</td>\n",
              "      <td>86.0831</td>\n",
              "      <td>3</td>\n",
              "      <td>24</td>\n",
              "      <td>67</td>\n",
              "      <td>139</td>\n",
              "      <td>340</td>\n",
              "    </tr>\n",
              "    <tr>\n",
              "      <th>start_station_name</th>\n",
              "      <td>519700</td>\n",
              "      <td>272</td>\n",
              "      <td>San Francisco Ferry Building (Harry Bridges Pl...</td>\n",
              "      <td>15187</td>\n",
              "      <td>NaT</td>\n",
              "      <td>NaT</td>\n",
              "      <td>NaN</td>\n",
              "      <td>NaN</td>\n",
              "      <td>NaN</td>\n",
              "      <td>NaN</td>\n",
              "      <td>NaN</td>\n",
              "      <td>NaN</td>\n",
              "      <td>NaN</td>\n",
              "    </tr>\n",
              "    <tr>\n",
              "      <th>start_station_latitude</th>\n",
              "      <td>519700</td>\n",
              "      <td>NaN</td>\n",
              "      <td>NaN</td>\n",
              "      <td>NaN</td>\n",
              "      <td>NaT</td>\n",
              "      <td>NaT</td>\n",
              "      <td>37.7717</td>\n",
              "      <td>0.086305</td>\n",
              "      <td>37.3173</td>\n",
              "      <td>37.7735</td>\n",
              "      <td>37.7835</td>\n",
              "      <td>37.7954</td>\n",
              "      <td>37.8802</td>\n",
              "    </tr>\n",
              "    <tr>\n",
              "      <th>start_station_longitude</th>\n",
              "      <td>519700</td>\n",
              "      <td>NaN</td>\n",
              "      <td>NaN</td>\n",
              "      <td>NaN</td>\n",
              "      <td>NaT</td>\n",
              "      <td>NaT</td>\n",
              "      <td>-122.364</td>\n",
              "      <td>0.105573</td>\n",
              "      <td>-122.444</td>\n",
              "      <td>-122.412</td>\n",
              "      <td>-122.399</td>\n",
              "      <td>-122.391</td>\n",
              "      <td>-121.874</td>\n",
              "    </tr>\n",
              "    <tr>\n",
              "      <th>end_station_id</th>\n",
              "      <td>519700</td>\n",
              "      <td>NaN</td>\n",
              "      <td>NaN</td>\n",
              "      <td>NaN</td>\n",
              "      <td>NaT</td>\n",
              "      <td>NaT</td>\n",
              "      <td>92.184</td>\n",
              "      <td>84.9695</td>\n",
              "      <td>3</td>\n",
              "      <td>23</td>\n",
              "      <td>66</td>\n",
              "      <td>134</td>\n",
              "      <td>340</td>\n",
              "    </tr>\n",
              "    <tr>\n",
              "      <th>end_station_name</th>\n",
              "      <td>519700</td>\n",
              "      <td>272</td>\n",
              "      <td>San Francisco Caltrain (Townsend St at 4th St)</td>\n",
              "      <td>17378</td>\n",
              "      <td>NaT</td>\n",
              "      <td>NaT</td>\n",
              "      <td>NaN</td>\n",
              "      <td>NaN</td>\n",
              "      <td>NaN</td>\n",
              "      <td>NaN</td>\n",
              "      <td>NaN</td>\n",
              "      <td>NaN</td>\n",
              "      <td>NaN</td>\n",
              "    </tr>\n",
              "    <tr>\n",
              "      <th>end_station_latitude</th>\n",
              "      <td>519700</td>\n",
              "      <td>NaN</td>\n",
              "      <td>NaN</td>\n",
              "      <td>NaN</td>\n",
              "      <td>NaT</td>\n",
              "      <td>NaT</td>\n",
              "      <td>37.7718</td>\n",
              "      <td>0.0862238</td>\n",
              "      <td>37.3173</td>\n",
              "      <td>37.7745</td>\n",
              "      <td>37.7838</td>\n",
              "      <td>37.7954</td>\n",
              "      <td>37.8802</td>\n",
              "    </tr>\n",
              "    <tr>\n",
              "      <th>end_station_longitude</th>\n",
              "      <td>519700</td>\n",
              "      <td>NaN</td>\n",
              "      <td>NaN</td>\n",
              "      <td>NaN</td>\n",
              "      <td>NaT</td>\n",
              "      <td>NaT</td>\n",
              "      <td>-122.363</td>\n",
              "      <td>0.105122</td>\n",
              "      <td>-122.444</td>\n",
              "      <td>-122.41</td>\n",
              "      <td>-122.399</td>\n",
              "      <td>-122.391</td>\n",
              "      <td>-121.874</td>\n",
              "    </tr>\n",
              "    <tr>\n",
              "      <th>bike_id</th>\n",
              "      <td>519700</td>\n",
              "      <td>NaN</td>\n",
              "      <td>NaN</td>\n",
              "      <td>NaN</td>\n",
              "      <td>NaT</td>\n",
              "      <td>NaT</td>\n",
              "      <td>1672.53</td>\n",
              "      <td>971.357</td>\n",
              "      <td>10</td>\n",
              "      <td>787</td>\n",
              "      <td>1728.5</td>\n",
              "      <td>2520</td>\n",
              "      <td>3733</td>\n",
              "    </tr>\n",
              "    <tr>\n",
              "      <th>user_type</th>\n",
              "      <td>519700</td>\n",
              "      <td>2</td>\n",
              "      <td>Subscriber</td>\n",
              "      <td>409230</td>\n",
              "      <td>NaT</td>\n",
              "      <td>NaT</td>\n",
              "      <td>NaN</td>\n",
              "      <td>NaN</td>\n",
              "      <td>NaN</td>\n",
              "      <td>NaN</td>\n",
              "      <td>NaN</td>\n",
              "      <td>NaN</td>\n",
              "      <td>NaN</td>\n",
              "    </tr>\n",
              "    <tr>\n",
              "      <th>member_birth_year</th>\n",
              "      <td>453159</td>\n",
              "      <td>NaN</td>\n",
              "      <td>NaN</td>\n",
              "      <td>NaN</td>\n",
              "      <td>NaT</td>\n",
              "      <td>NaT</td>\n",
              "      <td>1980.4</td>\n",
              "      <td>10.5135</td>\n",
              "      <td>1886</td>\n",
              "      <td>1974</td>\n",
              "      <td>1983</td>\n",
              "      <td>1988</td>\n",
              "      <td>1999</td>\n",
              "    </tr>\n",
              "    <tr>\n",
              "      <th>member_gender</th>\n",
              "      <td>453238</td>\n",
              "      <td>3</td>\n",
              "      <td>Male</td>\n",
              "      <td>348318</td>\n",
              "      <td>NaT</td>\n",
              "      <td>NaT</td>\n",
              "      <td>NaN</td>\n",
              "      <td>NaN</td>\n",
              "      <td>NaN</td>\n",
              "      <td>NaN</td>\n",
              "      <td>NaN</td>\n",
              "      <td>NaN</td>\n",
              "      <td>NaN</td>\n",
              "    </tr>\n",
              "    <tr>\n",
              "      <th>member_age</th>\n",
              "      <td>453159</td>\n",
              "      <td>NaN</td>\n",
              "      <td>NaN</td>\n",
              "      <td>NaN</td>\n",
              "      <td>NaT</td>\n",
              "      <td>NaT</td>\n",
              "      <td>37.5952</td>\n",
              "      <td>10.5135</td>\n",
              "      <td>19</td>\n",
              "      <td>30</td>\n",
              "      <td>35</td>\n",
              "      <td>44</td>\n",
              "      <td>132</td>\n",
              "    </tr>\n",
              "    <tr>\n",
              "      <th>start_day_name</th>\n",
              "      <td>519700</td>\n",
              "      <td>7</td>\n",
              "      <td>Tuesday</td>\n",
              "      <td>87865</td>\n",
              "      <td>NaT</td>\n",
              "      <td>NaT</td>\n",
              "      <td>NaN</td>\n",
              "      <td>NaN</td>\n",
              "      <td>NaN</td>\n",
              "      <td>NaN</td>\n",
              "      <td>NaN</td>\n",
              "      <td>NaN</td>\n",
              "      <td>NaN</td>\n",
              "    </tr>\n",
              "    <tr>\n",
              "      <th>start_month_name</th>\n",
              "      <td>519700</td>\n",
              "      <td>7</td>\n",
              "      <td>October</td>\n",
              "      <td>108937</td>\n",
              "      <td>NaT</td>\n",
              "      <td>NaT</td>\n",
              "      <td>NaN</td>\n",
              "      <td>NaN</td>\n",
              "      <td>NaN</td>\n",
              "      <td>NaN</td>\n",
              "      <td>NaN</td>\n",
              "      <td>NaN</td>\n",
              "      <td>NaN</td>\n",
              "    </tr>\n",
              "    <tr>\n",
              "      <th>end_day_name</th>\n",
              "      <td>519700</td>\n",
              "      <td>7</td>\n",
              "      <td>Tuesday</td>\n",
              "      <td>87825</td>\n",
              "      <td>NaT</td>\n",
              "      <td>NaT</td>\n",
              "      <td>NaN</td>\n",
              "      <td>NaN</td>\n",
              "      <td>NaN</td>\n",
              "      <td>NaN</td>\n",
              "      <td>NaN</td>\n",
              "      <td>NaN</td>\n",
              "      <td>NaN</td>\n",
              "    </tr>\n",
              "    <tr>\n",
              "      <th>end_month_name</th>\n",
              "      <td>519700</td>\n",
              "      <td>8</td>\n",
              "      <td>October</td>\n",
              "      <td>108953</td>\n",
              "      <td>NaT</td>\n",
              "      <td>NaT</td>\n",
              "      <td>NaN</td>\n",
              "      <td>NaN</td>\n",
              "      <td>NaN</td>\n",
              "      <td>NaN</td>\n",
              "      <td>NaN</td>\n",
              "      <td>NaN</td>\n",
              "      <td>NaN</td>\n",
              "    </tr>\n",
              "    <tr>\n",
              "      <th>end_hour</th>\n",
              "      <td>519700</td>\n",
              "      <td>NaN</td>\n",
              "      <td>NaN</td>\n",
              "      <td>NaN</td>\n",
              "      <td>NaT</td>\n",
              "      <td>NaT</td>\n",
              "      <td>13.6689</td>\n",
              "      <td>4.64645</td>\n",
              "      <td>0</td>\n",
              "      <td>9</td>\n",
              "      <td>14</td>\n",
              "      <td>17</td>\n",
              "      <td>23</td>\n",
              "    </tr>\n",
              "  </tbody>\n",
              "</table>\n",
              "</div>"
            ],
            "text/plain": [
              "                          count  unique  ...      75%      max\n",
              "duration_sec             519700     NaN  ...      938    86369\n",
              "start_time               519700  519688  ...      NaN      NaN\n",
              "end_time                 519700  519681  ...      NaN      NaN\n",
              "start_station_id         519700     NaN  ...      139      340\n",
              "start_station_name       519700     272  ...      NaN      NaN\n",
              "start_station_latitude   519700     NaN  ...  37.7954  37.8802\n",
              "start_station_longitude  519700     NaN  ... -122.391 -121.874\n",
              "end_station_id           519700     NaN  ...      134      340\n",
              "end_station_name         519700     272  ...      NaN      NaN\n",
              "end_station_latitude     519700     NaN  ...  37.7954  37.8802\n",
              "end_station_longitude    519700     NaN  ... -122.391 -121.874\n",
              "bike_id                  519700     NaN  ...     2520     3733\n",
              "user_type                519700       2  ...      NaN      NaN\n",
              "member_birth_year        453159     NaN  ...     1988     1999\n",
              "member_gender            453238       3  ...      NaN      NaN\n",
              "member_age               453159     NaN  ...       44      132\n",
              "start_day_name           519700       7  ...      NaN      NaN\n",
              "start_month_name         519700       7  ...      NaN      NaN\n",
              "end_day_name             519700       7  ...      NaN      NaN\n",
              "end_month_name           519700       8  ...      NaN      NaN\n",
              "end_hour                 519700     NaN  ...       17       23\n",
              "\n",
              "[21 rows x 13 columns]"
            ]
          },
          "metadata": {
            "tags": []
          },
          "execution_count": 12
        }
      ]
    },
    {
      "cell_type": "markdown",
      "metadata": {
        "id": "WNiNRl0Z8ACh",
        "colab_type": "text"
      },
      "source": [
        "## 1.Duration in Seconds\n",
        "####   Duration of the trip is the important here as it identify users and also give the time for travel."
      ]
    },
    {
      "cell_type": "code",
      "metadata": {
        "id": "ceHXAHgv8uTh",
        "colab_type": "code",
        "outputId": "6c2df3fa-96ae-4483-bc85-6a5f9fc4562f",
        "colab": {
          "base_uri": "https://localhost:8080/",
          "height": 300
        }
      },
      "source": [
        "df['duration_sec'].describe().to_frame()\n"
      ],
      "execution_count": 13,
      "outputs": [
        {
          "output_type": "execute_result",
          "data": {
            "text/html": [
              "<div>\n",
              "<style scoped>\n",
              "    .dataframe tbody tr th:only-of-type {\n",
              "        vertical-align: middle;\n",
              "    }\n",
              "\n",
              "    .dataframe tbody tr th {\n",
              "        vertical-align: top;\n",
              "    }\n",
              "\n",
              "    .dataframe thead th {\n",
              "        text-align: right;\n",
              "    }\n",
              "</style>\n",
              "<table border=\"1\" class=\"dataframe\">\n",
              "  <thead>\n",
              "    <tr style=\"text-align: right;\">\n",
              "      <th></th>\n",
              "      <th>duration_sec</th>\n",
              "    </tr>\n",
              "  </thead>\n",
              "  <tbody>\n",
              "    <tr>\n",
              "      <th>count</th>\n",
              "      <td>519700.000000</td>\n",
              "    </tr>\n",
              "    <tr>\n",
              "      <th>mean</th>\n",
              "      <td>1099.009521</td>\n",
              "    </tr>\n",
              "    <tr>\n",
              "      <th>std</th>\n",
              "      <td>3444.146451</td>\n",
              "    </tr>\n",
              "    <tr>\n",
              "      <th>min</th>\n",
              "      <td>61.000000</td>\n",
              "    </tr>\n",
              "    <tr>\n",
              "      <th>25%</th>\n",
              "      <td>382.000000</td>\n",
              "    </tr>\n",
              "    <tr>\n",
              "      <th>50%</th>\n",
              "      <td>596.000000</td>\n",
              "    </tr>\n",
              "    <tr>\n",
              "      <th>75%</th>\n",
              "      <td>938.000000</td>\n",
              "    </tr>\n",
              "    <tr>\n",
              "      <th>max</th>\n",
              "      <td>86369.000000</td>\n",
              "    </tr>\n",
              "  </tbody>\n",
              "</table>\n",
              "</div>"
            ],
            "text/plain": [
              "        duration_sec\n",
              "count  519700.000000\n",
              "mean     1099.009521\n",
              "std      3444.146451\n",
              "min        61.000000\n",
              "25%       382.000000\n",
              "50%       596.000000\n",
              "75%       938.000000\n",
              "max     86369.000000"
            ]
          },
          "metadata": {
            "tags": []
          },
          "execution_count": 13
        }
      ]
    },
    {
      "cell_type": "markdown",
      "metadata": {
        "id": "3TEOspCgeFGN",
        "colab_type": "text"
      },
      "source": [
        "## Observations\n",
        "\n",
        "1.Mimimum duration is 61 sec and Maximum is 86369 sec appox 24 hours.\n",
        "2. User uses Go bike of average of 1/2 hour .\n",
        "\n",
        "\n",
        "     \n",
        "\n"
      ]
    },
    {
      "cell_type": "code",
      "metadata": {
        "id": "fV3b3g4t8IoX",
        "colab_type": "code",
        "outputId": "ebde3421-5677-4804-cd75-4f168904d871",
        "colab": {
          "base_uri": "https://localhost:8080/",
          "height": 606
        }
      },
      "source": [
        "df['duration_sec'].plot.hist(figsize = (10 , 10),bins = 50).set(xlabel = 'Duration in seconds')\n",
        "plt.show()"
      ],
      "execution_count": 14,
      "outputs": [
        {
          "output_type": "display_data",
          "data": {
            "image/png": "[encoded data removed]",
            "text/plain": [
              "<Figure size 720x720 with 1 Axes>"
            ]
          },
          "metadata": {
            "tags": [],
            "needs_background": "light"
          }
        }
      ]
    },
    {
      "cell_type": "markdown",
      "metadata": {
        "id": "l3MLfQs50T33",
        "colab_type": "text"
      },
      "source": [
        "##### From the above, We can say that it is left skewed .There are outliners present here and also the users have taken more trips less than 10000 seconds,so with the help of boxplots we can reduce the outliners.\n",
        " "
      ]
    },
    {
      "cell_type": "code",
      "metadata": {
        "id": "KlVDUZs8XXWh",
        "colab_type": "code",
        "outputId": "2eb7af2d-2c71-47f7-a276-ce4984e96930",
        "colab": {
          "base_uri": "https://localhost:8080/",
          "height": 284
        }
      },
      "source": [
        "df['duration_sec'].plot(kind = 'box')"
      ],
      "execution_count": 15,
      "outputs": [
        {
          "output_type": "execute_result",
          "data": {
            "text/plain": [
              "<matplotlib.axes._subplots.AxesSubplot at 0x7fc0e3290e10>"
            ]
          },
          "metadata": {
            "tags": []
          },
          "execution_count": 15
        },
        {
          "output_type": "display_data",
          "data": {
            "image/png": "[encoded data removed]",
            "text/plain": [
              "<Figure size 432x288 with 1 Axes>"
            ]
          },
          "metadata": {
            "tags": [],
            "needs_background": "light"
          }
        }
      ]
    },
    {
      "cell_type": "code",
      "metadata": {
        "id": "SDbONHnYZwbU",
        "colab_type": "code",
        "outputId": "60791718-40a8-426e-8eda-8c7921aed356",
        "colab": {
          "base_uri": "https://localhost:8080/",
          "height": 284
        }
      },
      "source": [
        "np.log(df['duration_sec']).plot(kind = 'box')"
      ],
      "execution_count": 16,
      "outputs": [
        {
          "output_type": "execute_result",
          "data": {
            "text/plain": [
              "<matplotlib.axes._subplots.AxesSubplot at 0x7fc0e8cd1f60>"
            ]
          },
          "metadata": {
            "tags": []
          },
          "execution_count": 16
        },
        {
          "output_type": "display_data",
          "data": {
            "image/png": "[encoded data removed]",
            "text/plain": [
              "<Figure size 432x288 with 1 Axes>"
            ]
          },
          "metadata": {
            "tags": [],
            "needs_background": "light"
          }
        }
      ]
    },
    {
      "cell_type": "code",
      "metadata": {
        "id": "tgoPSh4Duf3W",
        "colab_type": "code",
        "outputId": "45bc1044-1cea-4f0a-9b58-9eb52102cfd9",
        "colab": {
          "base_uri": "https://localhost:8080/",
          "height": 283
        }
      },
      "source": [
        "np.log(df['duration_sec']).plot(kind = 'hist' ,bins = 50)"
      ],
      "execution_count": 17,
      "outputs": [
        {
          "output_type": "execute_result",
          "data": {
            "text/plain": [
              "<matplotlib.axes._subplots.AxesSubplot at 0x7fc0e8c33e48>"
            ]
          },
          "metadata": {
            "tags": []
          },
          "execution_count": 17
        },
        {
          "output_type": "display_data",
          "data": {
            "image/png": "[encoded data removed]",
            "text/plain": [
              "<Figure size 432x288 with 1 Axes>"
            ]
          },
          "metadata": {
            "tags": [],
            "needs_background": "light"
          }
        }
      ]
    },
    {
      "cell_type": "code",
      "metadata": {
        "id": "bExciYe72jIF",
        "colab_type": "code",
        "outputId": "06e5a268-13e5-487c-ed80-837791418f92",
        "colab": {
          "base_uri": "https://localhost:8080/",
          "height": 300
        }
      },
      "source": [
        "df.query('duration_sec < 5000')['duration_sec'].describe().to_frame()"
      ],
      "execution_count": 18,
      "outputs": [
        {
          "output_type": "execute_result",
          "data": {
            "text/html": [
              "<div>\n",
              "<style scoped>\n",
              "    .dataframe tbody tr th:only-of-type {\n",
              "        vertical-align: middle;\n",
              "    }\n",
              "\n",
              "    .dataframe tbody tr th {\n",
              "        vertical-align: top;\n",
              "    }\n",
              "\n",
              "    .dataframe thead th {\n",
              "        text-align: right;\n",
              "    }\n",
              "</style>\n",
              "<table border=\"1\" class=\"dataframe\">\n",
              "  <thead>\n",
              "    <tr style=\"text-align: right;\">\n",
              "      <th></th>\n",
              "      <th>duration_sec</th>\n",
              "    </tr>\n",
              "  </thead>\n",
              "  <tbody>\n",
              "    <tr>\n",
              "      <th>count</th>\n",
              "      <td>507691.000000</td>\n",
              "    </tr>\n",
              "    <tr>\n",
              "      <th>mean</th>\n",
              "      <td>740.764890</td>\n",
              "    </tr>\n",
              "    <tr>\n",
              "      <th>std</th>\n",
              "      <td>591.552607</td>\n",
              "    </tr>\n",
              "    <tr>\n",
              "      <th>min</th>\n",
              "      <td>61.000000</td>\n",
              "    </tr>\n",
              "    <tr>\n",
              "      <th>25%</th>\n",
              "      <td>377.000000</td>\n",
              "    </tr>\n",
              "    <tr>\n",
              "      <th>50%</th>\n",
              "      <td>585.000000</td>\n",
              "    </tr>\n",
              "    <tr>\n",
              "      <th>75%</th>\n",
              "      <td>903.000000</td>\n",
              "    </tr>\n",
              "    <tr>\n",
              "      <th>max</th>\n",
              "      <td>4999.000000</td>\n",
              "    </tr>\n",
              "  </tbody>\n",
              "</table>\n",
              "</div>"
            ],
            "text/plain": [
              "        duration_sec\n",
              "count  507691.000000\n",
              "mean      740.764890\n",
              "std       591.552607\n",
              "min        61.000000\n",
              "25%       377.000000\n",
              "50%       585.000000\n",
              "75%       903.000000\n",
              "max      4999.000000"
            ]
          },
          "metadata": {
            "tags": []
          },
          "execution_count": 18
        }
      ]
    },
    {
      "cell_type": "markdown",
      "metadata": {
        "id": "WqcecYo61wm-",
        "colab_type": "text"
      },
      "source": [
        " The plot is right skewed and shows postivie skewness. Following are the observations from the above variable:\n",
        "\n",
        "    There are heavy outliers in our data. 1.1% of our records are for duration more than 5000 seconds.\n",
        "    We used log transformation to show normality in the boxplot above.\n",
        "    After plotting duration < 5000, we observed right skewness.\n"
      ]
    },
    {
      "cell_type": "markdown",
      "metadata": {
        "id": "8J3YJyVeYbjU",
        "colab_type": "text"
      },
      "source": [
        "### 2. Box plot analysis for Members age"
      ]
    },
    {
      "cell_type": "code",
      "metadata": {
        "id": "W9bqLhbT3CVk",
        "colab_type": "code",
        "outputId": "f1a2c4f8-f5e8-4143-eb43-b988b523d49d",
        "colab": {
          "base_uri": "https://localhost:8080/",
          "height": 300
        }
      },
      "source": [
        "df['member_age'].describe().to_frame()"
      ],
      "execution_count": 19,
      "outputs": [
        {
          "output_type": "execute_result",
          "data": {
            "text/html": [
              "<div>\n",
              "<style scoped>\n",
              "    .dataframe tbody tr th:only-of-type {\n",
              "        vertical-align: middle;\n",
              "    }\n",
              "\n",
              "    .dataframe tbody tr th {\n",
              "        vertical-align: top;\n",
              "    }\n",
              "\n",
              "    .dataframe thead th {\n",
              "        text-align: right;\n",
              "    }\n",
              "</style>\n",
              "<table border=\"1\" class=\"dataframe\">\n",
              "  <thead>\n",
              "    <tr style=\"text-align: right;\">\n",
              "      <th></th>\n",
              "      <th>member_age</th>\n",
              "    </tr>\n",
              "  </thead>\n",
              "  <tbody>\n",
              "    <tr>\n",
              "      <th>count</th>\n",
              "      <td>453159.000000</td>\n",
              "    </tr>\n",
              "    <tr>\n",
              "      <th>mean</th>\n",
              "      <td>37.595213</td>\n",
              "    </tr>\n",
              "    <tr>\n",
              "      <th>std</th>\n",
              "      <td>10.513488</td>\n",
              "    </tr>\n",
              "    <tr>\n",
              "      <th>min</th>\n",
              "      <td>19.000000</td>\n",
              "    </tr>\n",
              "    <tr>\n",
              "      <th>25%</th>\n",
              "      <td>30.000000</td>\n",
              "    </tr>\n",
              "    <tr>\n",
              "      <th>50%</th>\n",
              "      <td>35.000000</td>\n",
              "    </tr>\n",
              "    <tr>\n",
              "      <th>75%</th>\n",
              "      <td>44.000000</td>\n",
              "    </tr>\n",
              "    <tr>\n",
              "      <th>max</th>\n",
              "      <td>132.000000</td>\n",
              "    </tr>\n",
              "  </tbody>\n",
              "</table>\n",
              "</div>"
            ],
            "text/plain": [
              "          member_age\n",
              "count  453159.000000\n",
              "mean       37.595213\n",
              "std        10.513488\n",
              "min        19.000000\n",
              "25%        30.000000\n",
              "50%        35.000000\n",
              "75%        44.000000\n",
              "max       132.000000"
            ]
          },
          "metadata": {
            "tags": []
          },
          "execution_count": 19
        }
      ]
    },
    {
      "cell_type": "code",
      "metadata": {
        "id": "6yC5dSfrQwIe",
        "colab_type": "code",
        "colab": {}
      },
      "source": [
        "q3 = 44\n",
        "q1 = 30\n",
        "iqr = q3 - q1\n",
        "min_value = q1 - (1.5* iqr)\n",
        "max_value = q3 + (1.5* iqr)"
      ],
      "execution_count": 0,
      "outputs": []
    },
    {
      "cell_type": "code",
      "metadata": {
        "id": "raFS3330Qv9x",
        "colab_type": "code",
        "outputId": "982ddde2-6011-4374-f3a1-a602fe36859e",
        "colab": {
          "base_uri": "https://localhost:8080/",
          "height": 35
        }
      },
      "source": [
        "max_value"
      ],
      "execution_count": 21,
      "outputs": [
        {
          "output_type": "execute_result",
          "data": {
            "text/plain": [
              "65.0"
            ]
          },
          "metadata": {
            "tags": []
          },
          "execution_count": 21
        }
      ]
    },
    {
      "cell_type": "markdown",
      "metadata": {
        "id": "n33Uc_IGd9fW",
        "colab_type": "text"
      },
      "source": [
        "\n",
        "\n",
        " From the above table we can observe that:\n",
        "1. Average age is 35-36 years. Minimum user age is 19 yrs. 75% of users are above44 yrs.\n",
        "Here the max value is 65 and min value is 9 . Here v can also c some outliners."
      ]
    },
    {
      "cell_type": "code",
      "metadata": {
        "id": "XNjOAaFSQ0hR",
        "colab_type": "code",
        "outputId": "46868a87-3de5-4d27-d4fc-291de3210cd5",
        "colab": {
          "base_uri": "https://localhost:8080/",
          "height": 284
        }
      },
      "source": [
        "df['member_age'].plot(kind = 'box')"
      ],
      "execution_count": 22,
      "outputs": [
        {
          "output_type": "execute_result",
          "data": {
            "text/plain": [
              "<matplotlib.axes._subplots.AxesSubplot at 0x7fc0e8bf16a0>"
            ]
          },
          "metadata": {
            "tags": []
          },
          "execution_count": 22
        },
        {
          "output_type": "display_data",
          "data": {
            "image/png": "[encoded data removed]",
            "text/plain": [
              "<Figure size 432x288 with 1 Axes>"
            ]
          },
          "metadata": {
            "tags": [],
            "needs_background": "light"
          }
        }
      ]
    },
    {
      "cell_type": "code",
      "metadata": {
        "id": "sA1fNT7OQ0dn",
        "colab_type": "code",
        "colab": {}
      },
      "source": [
        "df['age_bracket'] = pd.cut(df['member_age'],bins =[0,20,30,40,50,60,70,80,np.inf],labels = ['0-20','20-30','30-40','40-50','50-60','60-70','70-80','80+'])"
      ],
      "execution_count": 0,
      "outputs": []
    },
    {
      "cell_type": "code",
      "metadata": {
        "id": "jfyd40b0Q_4r",
        "colab_type": "code",
        "outputId": "c1767cbf-503d-48ab-c48e-a356275d84c6",
        "colab": {
          "base_uri": "https://localhost:8080/",
          "height": 300
        }
      },
      "source": [
        "df['age_bracket'].value_counts().to_frame().sort_index()\n"
      ],
      "execution_count": 24,
      "outputs": [
        {
          "output_type": "execute_result",
          "data": {
            "text/html": [
              "<div>\n",
              "<style scoped>\n",
              "    .dataframe tbody tr th:only-of-type {\n",
              "        vertical-align: middle;\n",
              "    }\n",
              "\n",
              "    .dataframe tbody tr th {\n",
              "        vertical-align: top;\n",
              "    }\n",
              "\n",
              "    .dataframe thead th {\n",
              "        text-align: right;\n",
              "    }\n",
              "</style>\n",
              "<table border=\"1\" class=\"dataframe\">\n",
              "  <thead>\n",
              "    <tr style=\"text-align: right;\">\n",
              "      <th></th>\n",
              "      <th>age_bracket</th>\n",
              "    </tr>\n",
              "  </thead>\n",
              "  <tbody>\n",
              "    <tr>\n",
              "      <th>0-20</th>\n",
              "      <td>2443</td>\n",
              "    </tr>\n",
              "    <tr>\n",
              "      <th>20-30</th>\n",
              "      <td>122457</td>\n",
              "    </tr>\n",
              "    <tr>\n",
              "      <th>30-40</th>\n",
              "      <td>181790</td>\n",
              "    </tr>\n",
              "    <tr>\n",
              "      <th>40-50</th>\n",
              "      <td>88180</td>\n",
              "    </tr>\n",
              "    <tr>\n",
              "      <th>50-60</th>\n",
              "      <td>44872</td>\n",
              "    </tr>\n",
              "    <tr>\n",
              "      <th>60-70</th>\n",
              "      <td>11196</td>\n",
              "    </tr>\n",
              "    <tr>\n",
              "      <th>70-80</th>\n",
              "      <td>1533</td>\n",
              "    </tr>\n",
              "    <tr>\n",
              "      <th>80+</th>\n",
              "      <td>688</td>\n",
              "    </tr>\n",
              "  </tbody>\n",
              "</table>\n",
              "</div>"
            ],
            "text/plain": [
              "       age_bracket\n",
              "0-20          2443\n",
              "20-30       122457\n",
              "30-40       181790\n",
              "40-50        88180\n",
              "50-60        44872\n",
              "60-70        11196\n",
              "70-80         1533\n",
              "80+            688"
            ]
          },
          "metadata": {
            "tags": []
          },
          "execution_count": 24
        }
      ]
    },
    {
      "cell_type": "code",
      "metadata": {
        "id": "gwMJFqTwQ_0b",
        "colab_type": "code",
        "colab": {}
      },
      "source": [
        "df=df.query('member_age < 90')"
      ],
      "execution_count": 0,
      "outputs": []
    },
    {
      "cell_type": "code",
      "metadata": {
        "id": "KOXKTSJVQ_v0",
        "colab_type": "code",
        "outputId": "8b361225-aaa6-4f21-ba12-b83debd37a7f",
        "colab": {
          "base_uri": "https://localhost:8080/",
          "height": 284
        }
      },
      "source": [
        "df['member_age'].plot(kind = 'box')"
      ],
      "execution_count": 26,
      "outputs": [
        {
          "output_type": "execute_result",
          "data": {
            "text/plain": [
              "<matplotlib.axes._subplots.AxesSubplot at 0x7fc0dd80e198>"
            ]
          },
          "metadata": {
            "tags": []
          },
          "execution_count": 26
        },
        {
          "output_type": "display_data",
          "data": {
            "image/png": "[encoded data removed]",
            "text/plain": [
              "<Figure size 432x288 with 1 Axes>"
            ]
          },
          "metadata": {
            "tags": [],
            "needs_background": "light"
          }
        }
      ]
    },
    {
      "cell_type": "code",
      "metadata": {
        "id": "mxxPKBDAmVC4",
        "colab_type": "code",
        "outputId": "3b51f0d1-a58b-4027-af74-e5a3525e3efd",
        "colab": {
          "base_uri": "https://localhost:8080/",
          "height": 283
        }
      },
      "source": [
        "df['member_age'].plot(kind='hist',bins=50)"
      ],
      "execution_count": 27,
      "outputs": [
        {
          "output_type": "execute_result",
          "data": {
            "text/plain": [
              "<matplotlib.axes._subplots.AxesSubplot at 0x7fc0dd85acc0>"
            ]
          },
          "metadata": {
            "tags": []
          },
          "execution_count": 27
        },
        {
          "output_type": "display_data",
          "data": {
            "image/png": "[encoded data removed]",
            "text/plain": [
              "<Figure size 432x288 with 1 Axes>"
            ]
          },
          "metadata": {
            "tags": [],
            "needs_background": "light"
          }
        }
      ]
    },
    {
      "cell_type": "markdown",
      "metadata": {
        "id": "klJ_M--TMbLA",
        "colab_type": "text"
      },
      "source": [
        "#### From the above graph we can see that the people above the age of 25 and below 60 tend to take the trip for a longer duration.."
      ]
    },
    {
      "cell_type": "markdown",
      "metadata": {
        "id": "JkyGBntWYxA5",
        "colab_type": "text"
      },
      "source": [
        "# 3.start_station_name and end station name"
      ]
    },
    {
      "cell_type": "code",
      "metadata": {
        "id": "JesIcwEAYuQy",
        "colab_type": "code",
        "outputId": "4c25ace7-ba0d-4e3f-c7a9-92be19116348",
        "colab": {
          "base_uri": "https://localhost:8080/",
          "height": 237
        }
      },
      "source": [
        " df['start_station_name'].value_counts()"
      ],
      "execution_count": 28,
      "outputs": [
        {
          "output_type": "execute_result",
          "data": {
            "text/plain": [
              "San Francisco Caltrain (Townsend St at 4th St)               11875\n",
              "San Francisco Caltrain Station 2  (Townsend St at 4th St)    11533\n",
              "San Francisco Ferry Building (Harry Bridges Plaza)           11505\n",
              "Market St at 10th St                                         10904\n",
              "Berry St at 4th St                                           10137\n",
              "                                                             ...  \n",
              "Pierce Ave at Market St                                          7\n",
              "Empire St at 1st St                                              3\n",
              "Harmon St at Adeline St                                          3\n",
              "Jackson St at 11th St                                            2\n",
              "Ellsworth St at Russell St                                       1\n",
              "Name: start_station_name, Length: 272, dtype: int64"
            ]
          },
          "metadata": {
            "tags": []
          },
          "execution_count": 28
        }
      ]
    },
    {
      "cell_type": "code",
      "metadata": {
        "id": "o6BeRfvNY8bU",
        "colab_type": "code",
        "outputId": "361879e3-82f2-4b32-ac18-fa786b5b7f61",
        "colab": {
          "base_uri": "https://localhost:8080/",
          "height": 606
        }
      },
      "source": [
        "df['start_station_name'].value_counts().sort_values(ascending = False)[:20].plot(kind = 'barh' ,figsize = (10,10)).set(xlabel = 'Station name')\n",
        "plt.show()"
      ],
      "execution_count": 29,
      "outputs": [
        {
          "output_type": "display_data",
          "data": {
            "image/png": "[encoded data removed]",
            "text/plain": [
              "<Figure size 720x720 with 1 Axes>"
            ]
          },
          "metadata": {
            "tags": [],
            "needs_background": "light"
          }
        }
      ]
    },
    {
      "cell_type": "markdown",
      "metadata": {
        "id": "BOZPF-fv62c0",
        "colab_type": "text"
      },
      "source": [
        "from the above graph we can observe that :\n",
        "\n",
        "1.The most used station is San Caltrain( Townsend St at 4th St)"
      ]
    },
    {
      "cell_type": "code",
      "metadata": {
        "id": "RdLjG1PBZCvM",
        "colab_type": "code",
        "outputId": "fb2b9971-4445-4414-ddab-8120a6fc2611",
        "colab": {
          "base_uri": "https://localhost:8080/",
          "height": 237
        }
      },
      "source": [
        "df['end_station_name'].value_counts()"
      ],
      "execution_count": 30,
      "outputs": [
        {
          "output_type": "execute_result",
          "data": {
            "text/plain": [
              "San Francisco Caltrain (Townsend St at 4th St)               16614\n",
              "San Francisco Ferry Building (Harry Bridges Plaza)           13547\n",
              "San Francisco Caltrain Station 2  (Townsend St at 4th St)    13054\n",
              "Montgomery St BART Station (Market St at 2nd St)             12266\n",
              "The Embarcadero at Sansome St                                10546\n",
              "                                                             ...  \n",
              "Pierce Ave at Market St                                          4\n",
              "Harmon St at Adeline St                                          3\n",
              "Jackson St at 11th St                                            3\n",
              "Empire St at 1st St                                              2\n",
              "Ellsworth St at Russell St                                       2\n",
              "Name: end_station_name, Length: 272, dtype: int64"
            ]
          },
          "metadata": {
            "tags": []
          },
          "execution_count": 30
        }
      ]
    },
    {
      "cell_type": "code",
      "metadata": {
        "id": "CLW-wvcrZCjR",
        "colab_type": "code",
        "outputId": "d21d5231-c107-47a5-d6cf-0f0e408b1c51",
        "colab": {
          "base_uri": "https://localhost:8080/",
          "height": 606
        }
      },
      "source": [
        "df['end_station_name'].value_counts().sort_values(ascending = False)[:20].plot(kind = 'barh',figsize = (10,10)).set(xlabel = 'Station name end')\n",
        "plt.show()"
      ],
      "execution_count": 31,
      "outputs": [
        {
          "output_type": "display_data",
          "data": {
            "image/png": "[encoded data removed]",
            "text/plain": [
              "<Figure size 720x720 with 1 Axes>"
            ]
          },
          "metadata": {
            "tags": [],
            "needs_background": "light"
          }
        }
      ]
    },
    {
      "cell_type": "markdown",
      "metadata": {
        "id": "Q9BiyKrz8vDb",
        "colab_type": "text"
      },
      "source": [
        "from the above graph we can observe that :\n",
        "\n",
        "1.The most used station is San Caltrain( Townsend St at 4th St)\n",
        "2. California Station 2 (Townsend St at 4th St) Seems to be the most popular among all It's the highest for the start as well as end station."
      ]
    },
    {
      "cell_type": "markdown",
      "metadata": {
        "id": "E5V0mTge-dd5",
        "colab_type": "text"
      },
      "source": [
        "#4. User type and their gender"
      ]
    },
    {
      "cell_type": "code",
      "metadata": {
        "id": "AIOkjVuJ-LgN",
        "colab_type": "code",
        "outputId": "15394603-75fb-467e-f0b3-777001d4029d",
        "colab": {
          "base_uri": "https://localhost:8080/",
          "height": 109
        }
      },
      "source": [
        "df['member_gender'].describe()"
      ],
      "execution_count": 32,
      "outputs": [
        {
          "output_type": "execute_result",
          "data": {
            "text/plain": [
              "count     452680\n",
              "unique         3\n",
              "top         Male\n",
              "freq      348049\n",
              "Name: member_gender, dtype: object"
            ]
          },
          "metadata": {
            "tags": []
          },
          "execution_count": 32
        }
      ]
    },
    {
      "cell_type": "code",
      "metadata": {
        "id": "boVA_Uze-LZK",
        "colab_type": "code",
        "outputId": "267acedb-9a6f-4496-f29f-6d107f57ffd6",
        "colab": {
          "base_uri": "https://localhost:8080/",
          "height": 632
        }
      },
      "source": [
        "df['member_gender'].value_counts().plot(kind = 'bar', figsize = (10,10)).set(xlabel = 'gender')\n",
        "plt.show()"
      ],
      "execution_count": 33,
      "outputs": [
        {
          "output_type": "display_data",
          "data": {
            "image/png": "[encoded data removed]",
            "text/plain": [
              "<Figure size 720x720 with 1 Axes>"
            ]
          },
          "metadata": {
            "tags": [],
            "needs_background": "light"
          }
        }
      ]
    },
    {
      "cell_type": "markdown",
      "metadata": {
        "id": "X3u76dPy-96_",
        "colab_type": "text"
      },
      "source": [
        "Here we can observe that the male users are much more than the females."
      ]
    },
    {
      "cell_type": "code",
      "metadata": {
        "id": "DPbL1PkD-LQ8",
        "colab_type": "code",
        "outputId": "e18a897b-ee13-4b8e-df36-e9b5a3be5a04",
        "colab": {
          "base_uri": "https://localhost:8080/",
          "height": 308
        }
      },
      "source": [
        "df['user_type'].value_counts().plot(kind = 'bar')\n",
        "plt.show()"
      ],
      "execution_count": 34,
      "outputs": [
        {
          "output_type": "display_data",
          "data": {
            "image/png": "[encoded data removed]",
            "text/plain": [
              "<Figure size 432x288 with 1 Axes>"
            ]
          },
          "metadata": {
            "tags": [],
            "needs_background": "light"
          }
        }
      ]
    },
    {
      "cell_type": "markdown",
      "metadata": {
        "id": "GOD-GUfo_vU0",
        "colab_type": "text"
      },
      "source": [
        "Here we can observe that the Subscriber are much more than the customer."
      ]
    },
    {
      "cell_type": "markdown",
      "metadata": {
        "id": "D0Jke9H780jk",
        "colab_type": "text"
      },
      "source": [
        "#Bivariate Exploration"
      ]
    },
    {
      "cell_type": "code",
      "metadata": {
        "id": "pYkYEdu9ZCcy",
        "colab_type": "code",
        "outputId": "18690c9a-3061-456b-d205-af07578dedd4",
        "colab": {
          "base_uri": "https://localhost:8080/",
          "height": 414
        }
      },
      "source": [
        "df.corr()"
      ],
      "execution_count": 35,
      "outputs": [
        {
          "output_type": "execute_result",
          "data": {
            "text/html": [
              "<div>\n",
              "<style scoped>\n",
              "    .dataframe tbody tr th:only-of-type {\n",
              "        vertical-align: middle;\n",
              "    }\n",
              "\n",
              "    .dataframe tbody tr th {\n",
              "        vertical-align: top;\n",
              "    }\n",
              "\n",
              "    .dataframe thead th {\n",
              "        text-align: right;\n",
              "    }\n",
              "</style>\n",
              "<table border=\"1\" class=\"dataframe\">\n",
              "  <thead>\n",
              "    <tr style=\"text-align: right;\">\n",
              "      <th></th>\n",
              "      <th>duration_sec</th>\n",
              "      <th>start_station_id</th>\n",
              "      <th>start_station_latitude</th>\n",
              "      <th>start_station_longitude</th>\n",
              "      <th>end_station_id</th>\n",
              "      <th>end_station_latitude</th>\n",
              "      <th>end_station_longitude</th>\n",
              "      <th>bike_id</th>\n",
              "      <th>member_birth_year</th>\n",
              "      <th>member_age</th>\n",
              "      <th>end_hour</th>\n",
              "    </tr>\n",
              "  </thead>\n",
              "  <tbody>\n",
              "    <tr>\n",
              "      <th>duration_sec</th>\n",
              "      <td>1.000000</td>\n",
              "      <td>0.009904</td>\n",
              "      <td>0.006939</td>\n",
              "      <td>-0.000330</td>\n",
              "      <td>0.015634</td>\n",
              "      <td>0.006930</td>\n",
              "      <td>-0.001419</td>\n",
              "      <td>-0.006043</td>\n",
              "      <td>0.004894</td>\n",
              "      <td>-0.004894</td>\n",
              "      <td>0.003737</td>\n",
              "    </tr>\n",
              "    <tr>\n",
              "      <th>start_station_id</th>\n",
              "      <td>0.009904</td>\n",
              "      <td>1.000000</td>\n",
              "      <td>-0.337899</td>\n",
              "      <td>0.629506</td>\n",
              "      <td>0.579605</td>\n",
              "      <td>-0.321198</td>\n",
              "      <td>0.636594</td>\n",
              "      <td>-0.051323</td>\n",
              "      <td>0.105072</td>\n",
              "      <td>-0.105072</td>\n",
              "      <td>0.010056</td>\n",
              "    </tr>\n",
              "    <tr>\n",
              "      <th>start_station_latitude</th>\n",
              "      <td>0.006939</td>\n",
              "      <td>-0.337899</td>\n",
              "      <td>1.000000</td>\n",
              "      <td>-0.709953</td>\n",
              "      <td>-0.335516</td>\n",
              "      <td>0.987701</td>\n",
              "      <td>-0.716461</td>\n",
              "      <td>0.003145</td>\n",
              "      <td>-0.050851</td>\n",
              "      <td>0.050851</td>\n",
              "      <td>-0.004559</td>\n",
              "    </tr>\n",
              "    <tr>\n",
              "      <th>start_station_longitude</th>\n",
              "      <td>-0.000330</td>\n",
              "      <td>0.629506</td>\n",
              "      <td>-0.709953</td>\n",
              "      <td>1.000000</td>\n",
              "      <td>0.666386</td>\n",
              "      <td>-0.716958</td>\n",
              "      <td>0.992066</td>\n",
              "      <td>-0.081010</td>\n",
              "      <td>0.066979</td>\n",
              "      <td>-0.066979</td>\n",
              "      <td>0.044780</td>\n",
              "    </tr>\n",
              "    <tr>\n",
              "      <th>end_station_id</th>\n",
              "      <td>0.015634</td>\n",
              "      <td>0.579605</td>\n",
              "      <td>-0.335516</td>\n",
              "      <td>0.666386</td>\n",
              "      <td>1.000000</td>\n",
              "      <td>-0.361302</td>\n",
              "      <td>0.659532</td>\n",
              "      <td>-0.052602</td>\n",
              "      <td>0.102170</td>\n",
              "      <td>-0.102170</td>\n",
              "      <td>0.114036</td>\n",
              "    </tr>\n",
              "    <tr>\n",
              "      <th>end_station_latitude</th>\n",
              "      <td>0.006930</td>\n",
              "      <td>-0.321198</td>\n",
              "      <td>0.987701</td>\n",
              "      <td>-0.716958</td>\n",
              "      <td>-0.361302</td>\n",
              "      <td>1.000000</td>\n",
              "      <td>-0.718697</td>\n",
              "      <td>0.004239</td>\n",
              "      <td>-0.051088</td>\n",
              "      <td>0.051088</td>\n",
              "      <td>-0.024733</td>\n",
              "    </tr>\n",
              "    <tr>\n",
              "      <th>end_station_longitude</th>\n",
              "      <td>-0.001419</td>\n",
              "      <td>0.636594</td>\n",
              "      <td>-0.716461</td>\n",
              "      <td>0.992066</td>\n",
              "      <td>0.659532</td>\n",
              "      <td>-0.718697</td>\n",
              "      <td>1.000000</td>\n",
              "      <td>-0.079956</td>\n",
              "      <td>0.068975</td>\n",
              "      <td>-0.068975</td>\n",
              "      <td>0.030730</td>\n",
              "    </tr>\n",
              "    <tr>\n",
              "      <th>bike_id</th>\n",
              "      <td>-0.006043</td>\n",
              "      <td>-0.051323</td>\n",
              "      <td>0.003145</td>\n",
              "      <td>-0.081010</td>\n",
              "      <td>-0.052602</td>\n",
              "      <td>0.004239</td>\n",
              "      <td>-0.079956</td>\n",
              "      <td>1.000000</td>\n",
              "      <td>0.004707</td>\n",
              "      <td>-0.004707</td>\n",
              "      <td>-0.009409</td>\n",
              "    </tr>\n",
              "    <tr>\n",
              "      <th>member_birth_year</th>\n",
              "      <td>0.004894</td>\n",
              "      <td>0.105072</td>\n",
              "      <td>-0.050851</td>\n",
              "      <td>0.066979</td>\n",
              "      <td>0.102170</td>\n",
              "      <td>-0.051088</td>\n",
              "      <td>0.068975</td>\n",
              "      <td>0.004707</td>\n",
              "      <td>1.000000</td>\n",
              "      <td>-1.000000</td>\n",
              "      <td>0.056678</td>\n",
              "    </tr>\n",
              "    <tr>\n",
              "      <th>member_age</th>\n",
              "      <td>-0.004894</td>\n",
              "      <td>-0.105072</td>\n",
              "      <td>0.050851</td>\n",
              "      <td>-0.066979</td>\n",
              "      <td>-0.102170</td>\n",
              "      <td>0.051088</td>\n",
              "      <td>-0.068975</td>\n",
              "      <td>-0.004707</td>\n",
              "      <td>-1.000000</td>\n",
              "      <td>1.000000</td>\n",
              "      <td>-0.056678</td>\n",
              "    </tr>\n",
              "    <tr>\n",
              "      <th>end_hour</th>\n",
              "      <td>0.003737</td>\n",
              "      <td>0.010056</td>\n",
              "      <td>-0.004559</td>\n",
              "      <td>0.044780</td>\n",
              "      <td>0.114036</td>\n",
              "      <td>-0.024733</td>\n",
              "      <td>0.030730</td>\n",
              "      <td>-0.009409</td>\n",
              "      <td>0.056678</td>\n",
              "      <td>-0.056678</td>\n",
              "      <td>1.000000</td>\n",
              "    </tr>\n",
              "  </tbody>\n",
              "</table>\n",
              "</div>"
            ],
            "text/plain": [
              "                         duration_sec  start_station_id  ...  member_age  end_hour\n",
              "duration_sec                 1.000000          0.009904  ...   -0.004894  0.003737\n",
              "start_station_id             0.009904          1.000000  ...   -0.105072  0.010056\n",
              "start_station_latitude       0.006939         -0.337899  ...    0.050851 -0.004559\n",
              "start_station_longitude     -0.000330          0.629506  ...   -0.066979  0.044780\n",
              "end_station_id               0.015634          0.579605  ...   -0.102170  0.114036\n",
              "end_station_latitude         0.006930         -0.321198  ...    0.051088 -0.024733\n",
              "end_station_longitude       -0.001419          0.636594  ...   -0.068975  0.030730\n",
              "bike_id                     -0.006043         -0.051323  ...   -0.004707 -0.009409\n",
              "member_birth_year            0.004894          0.105072  ...   -1.000000  0.056678\n",
              "member_age                  -0.004894         -0.105072  ...    1.000000 -0.056678\n",
              "end_hour                     0.003737          0.010056  ...   -0.056678  1.000000\n",
              "\n",
              "[11 rows x 11 columns]"
            ]
          },
          "metadata": {
            "tags": []
          },
          "execution_count": 35
        }
      ]
    },
    {
      "cell_type": "code",
      "metadata": {
        "id": "LzXFxtXZnpT6",
        "colab_type": "code",
        "outputId": "2ccb8eb2-69f5-4b0b-b660-6cc04cc56c47",
        "colab": {
          "base_uri": "https://localhost:8080/",
          "height": 374
        }
      },
      "source": [
        "sns.heatmap(df.corr())\n",
        "plt.show()"
      ],
      "execution_count": 36,
      "outputs": [
        {
          "output_type": "display_data",
          "data": {
            "image/png": "[encoded data removed]",
            "text/plain": [
              "<Figure size 432x288 with 2 Axes>"
            ]
          },
          "metadata": {
            "tags": [],
            "needs_background": "light"
          }
        }
      ]
    },
    {
      "cell_type": "code",
      "metadata": {
        "id": "8sbtKGsLnqZM",
        "colab_type": "code",
        "outputId": "27722f7f-bfe8-425c-82df-e70c7d0922fe",
        "colab": {
          "base_uri": "https://localhost:8080/",
          "height": 388
        }
      },
      "source": [
        " matrix= np.triu(df.corr())\n",
        "sns.heatmap(df.corr(), annot = True ,fmt = '.1',mask = matrix)"
      ],
      "execution_count": 37,
      "outputs": [
        {
          "output_type": "execute_result",
          "data": {
            "text/plain": [
              "<matplotlib.axes._subplots.AxesSubplot at 0x7fc0dda8c400>"
            ]
          },
          "metadata": {
            "tags": []
          },
          "execution_count": 37
        },
        {
          "output_type": "display_data",
          "data": {
            "image/png": "[encoded data removed]",
            "text/plain": [
              "<Figure size 432x288 with 2 Axes>"
            ]
          },
          "metadata": {
            "tags": [],
            "needs_background": "light"
          }
        }
      ]
    },
    {
      "cell_type": "code",
      "metadata": {
        "id": "dMUnVlUCs3yO",
        "colab_type": "code",
        "outputId": "dd0bb6c6-71ad-46ca-c452-18e7e407e2c1",
        "colab": {
          "base_uri": "https://localhost:8080/",
          "height": 718
        }
      },
      "source": [
        "plt.figure(figsize=(10,10))\n",
        "matrix= np.triu(df.corr())\n",
        "sns.heatmap(df.corr(), annot = True ,fmt = '.1g', cmap='coolwarm')"
      ],
      "execution_count": 38,
      "outputs": [
        {
          "output_type": "execute_result",
          "data": {
            "text/plain": [
              "<matplotlib.axes._subplots.AxesSubplot at 0x7fc0dd9b3b70>"
            ]
          },
          "metadata": {
            "tags": []
          },
          "execution_count": 38
        },
        {
          "output_type": "display_data",
          "data": {
            "image/png": "[encoded data removed]",
            "text/plain": [
              "<Figure size 720x720 with 2 Axes>"
            ]
          },
          "metadata": {
            "tags": [],
            "needs_background": "light"
          }
        }
      ]
    },
    {
      "cell_type": "markdown",
      "metadata": {
        "id": "fvLvyJmGuWbZ",
        "colab_type": "text"
      },
      "source": [
        "here we can say that there is a correlation between the Longitude , Latitude level .we can plots these individually."
      ]
    },
    {
      "cell_type": "code",
      "metadata": {
        "id": "KGvd4TWluvCg",
        "colab_type": "code",
        "colab": {
          "base_uri": "https://localhost:8080/",
          "height": 279
        },
        "outputId": "1d35136e-6900-451e-8ac9-c7c66a4b0d10"
      },
      "source": [
        "df.plot(kind = 'scatter' , x= 'start_station_latitude' ,y= 'start_station_longitude').set(xlabel = 'Latitude (Start)' , ylabel = 'Longitude (Start)')\n",
        "plt.show()"
      ],
      "execution_count": 42,
      "outputs": [
        {
          "output_type": "display_data",
          "data": {
            "image/png": "[encoded data removed]",
            "text/plain": [
              "<Figure size 432x288 with 1 Axes>"
            ]
          },
          "metadata": {
            "tags": [],
            "needs_background": "light"
          }
        }
      ]
    },
    {
      "cell_type": "code",
      "metadata": {
        "id": "Osbs7LCpuu-U",
        "colab_type": "code",
        "colab": {
          "base_uri": "https://localhost:8080/",
          "height": 279
        },
        "outputId": "4bfa6d3e-0fd4-4ae1-f11c-08c8fbbec769"
      },
      "source": [
        "df.plot(kind = 'scatter' , x= 'end_station_latitude' ,y= 'end_station_longitude').set(xlabel = 'Latitude (End)' , ylabel = 'Longitude (End)')\n",
        "plt.show()"
      ],
      "execution_count": 43,
      "outputs": [
        {
          "output_type": "display_data",
          "data": {
            "image/png": "[encoded data removed]",
            "text/plain": [
              "<Figure size 432x288 with 1 Axes>"
            ]
          },
          "metadata": {
            "tags": [],
            "needs_background": "light"
          }
        }
      ]
    },
    {
      "cell_type": "markdown",
      "metadata": {
        "id": "z0hMJlBjv2AG",
        "colab_type": "text"
      },
      "source": [
        " We can ignore the latitude and longitude for further analysis as nothings seems focused.. \n",
        " "
      ]
    },
    {
      "cell_type": "markdown",
      "metadata": {
        "id": "ub5zoESDyJjv",
        "colab_type": "text"
      },
      "source": [
        " Duration of travel for user types and genders"
      ]
    },
    {
      "cell_type": "code",
      "metadata": {
        "id": "syeHXFXtCTeY",
        "colab_type": "code",
        "outputId": "7baa65ba-b2bc-4001-985b-d5af9b750899",
        "colab": {
          "base_uri": "https://localhost:8080/",
          "height": 279
        }
      },
      "source": [
        "g = sns.stripplot(x=df[\"member_gender\"] , y=df['duration_sec'] , jitter=True ,alpha = 0.25)\n",
        "g.set_xlabel('Member Gender')\n",
        "g.set_ylabel('Duration seconds')\n",
        "plt.show()"
      ],
      "execution_count": 44,
      "outputs": [
        {
          "output_type": "display_data",
          "data": {
            "image/png": "[encoded data removed]",
            "text/plain": [
              "<Figure size 432x288 with 1 Axes>"
            ]
          },
          "metadata": {
            "tags": [],
            "needs_background": "light"
          }
        }
      ]
    },
    {
      "cell_type": "markdown",
      "metadata": {
        "id": "jXSMk8pfyWtC",
        "colab_type": "text"
      },
      "source": [
        "Males and Females are renting the bikes for a similar duration, here we are not able to make out any difference. So exploring Which gender are our subscribers.\n"
      ]
    },
    {
      "cell_type": "code",
      "metadata": {
        "id": "h_diIaZZE6Vo",
        "colab_type": "code",
        "colab": {
          "base_uri": "https://localhost:8080/",
          "height": 143
        },
        "outputId": "2996746c-a2d6-43cd-88c0-77db0568cb5c"
      },
      "source": [
        "pd.crosstab(df[\"user_type\"] , df['member_gender'])"
      ],
      "execution_count": 45,
      "outputs": [
        {
          "output_type": "execute_result",
          "data": {
            "text/html": [
              "<div>\n",
              "<style scoped>\n",
              "    .dataframe tbody tr th:only-of-type {\n",
              "        vertical-align: middle;\n",
              "    }\n",
              "\n",
              "    .dataframe tbody tr th {\n",
              "        vertical-align: top;\n",
              "    }\n",
              "\n",
              "    .dataframe thead th {\n",
              "        text-align: right;\n",
              "    }\n",
              "</style>\n",
              "<table border=\"1\" class=\"dataframe\">\n",
              "  <thead>\n",
              "    <tr style=\"text-align: right;\">\n",
              "      <th>member_gender</th>\n",
              "      <th>Female</th>\n",
              "      <th>Male</th>\n",
              "      <th>Other</th>\n",
              "    </tr>\n",
              "    <tr>\n",
              "      <th>user_type</th>\n",
              "      <th></th>\n",
              "      <th></th>\n",
              "      <th></th>\n",
              "    </tr>\n",
              "  </thead>\n",
              "  <tbody>\n",
              "    <tr>\n",
              "      <th>Customer</th>\n",
              "      <td>14762</td>\n",
              "      <td>33059</td>\n",
              "      <td>881</td>\n",
              "    </tr>\n",
              "    <tr>\n",
              "      <th>Subscriber</th>\n",
              "      <td>83646</td>\n",
              "      <td>314990</td>\n",
              "      <td>5342</td>\n",
              "    </tr>\n",
              "  </tbody>\n",
              "</table>\n",
              "</div>"
            ],
            "text/plain": [
              "member_gender  Female    Male  Other\n",
              "user_type                           \n",
              "Customer        14762   33059    881\n",
              "Subscriber      83646  314990   5342"
            ]
          },
          "metadata": {
            "tags": []
          },
          "execution_count": 45
        }
      ]
    },
    {
      "cell_type": "markdown",
      "metadata": {
        "id": "SOj97Sr_zEXT",
        "colab_type": "text"
      },
      "source": [
        "We can see that most of the subscribers are Males. A significant amount of increase as compared to other genders , meanwhile for Customers there is not a significant difference"
      ]
    },
    {
      "cell_type": "code",
      "metadata": {
        "id": "Rc7v0FhtzHcI",
        "colab_type": "code",
        "colab": {
          "base_uri": "https://localhost:8080/",
          "height": 606
        },
        "outputId": "639e5f2f-91cb-4fa2-a8af-093dd766eb34"
      },
      "source": [
        "pd.crosstab(df[\"user_type\"] , df['member_gender']).plot(kind = 'bar' , figsize = (10,10) , rot = 0).set(xlabel = 'User type')\n",
        "plt.show()\n"
      ],
      "execution_count": 46,
      "outputs": [
        {
          "output_type": "display_data",
          "data": {
            "image/png": "[encoded data removed]",
            "text/plain": [
              "<Figure size 720x720 with 1 Axes>"
            ]
          },
          "metadata": {
            "tags": [],
            "needs_background": "light"
          }
        }
      ]
    },
    {
      "cell_type": "markdown",
      "metadata": {
        "id": "4pS9ozsGzfd6",
        "colab_type": "text"
      },
      "source": [
        "Multivariate Exploration"
      ]
    }
  ]
}